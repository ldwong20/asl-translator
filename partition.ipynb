{
 "cells": [
  {
   "cell_type": "code",
   "execution_count": 20,
   "id": "f87f9eb0",
   "metadata": {},
   "outputs": [],
   "source": [
    "import os\n",
    "from pathlib import Path\n",
    "from sklearn.model_selection import train_test_split\n",
    "import shutil\n",
    "from tqdm import tqdm\n",
    "from PIL import Image"
   ]
  },
  {
   "cell_type": "code",
   "execution_count": 25,
   "id": "532b875d",
   "metadata": {},
   "outputs": [
    {
     "name": "stderr",
     "output_type": "stream",
     "text": [
      "30it [00:24,  1.25it/s]\n"
     ]
    }
   ],
   "source": [
    "data_dir = \"./data/asl_alphabet_train\"\n",
    "data_path = Path(data_dir)\n",
    "\n",
    "for sub_path in tqdm(data_path.glob('**/')):\n",
    "    if str(sub_path).count('/') != 2:\n",
    "        continue\n",
    "\n",
    "    file_names = list(sub_path.glob('**/*'))\n",
    "    train, rest, _, _ = train_test_split(file_names, [False] * len(file_names), test_size=0.25, random_state=5)\n",
    "    val, test, _, _ = train_test_split(rest, [False] * len(rest), test_size=2/3, random_state=5)\n",
    "    \n",
    "    for s, data in [('train', train), ('val', val), ('test', test)]:\n",
    "        os.makedirs(os.path.abspath(f\"./data/{s}\" + str(sub_path)[len(str(data_path)):]+'/'))\n",
    "        for fn in data:\n",
    "            sfn = str(fn)\n",
    "            dest = f\"./data/{s}\" + sfn[len(str(data_path)):]\n",
    "            shutil.copyfile(fn, dest)"
   ]
  },
  {
   "cell_type": "code",
   "execution_count": 58,
   "id": "9a510cd6",
   "metadata": {},
   "outputs": [
    {
     "name": "stderr",
     "output_type": "stream",
     "text": [
      "  3%|█▌                                          | 1/29 [00:05<02:28,  5.29s/it]\n"
     ]
    },
    {
     "ename": "FileNotFoundError",
     "evalue": "[Errno 2] No such file or directory: './data/train/R/R1170.jpg'",
     "output_type": "error",
     "traceback": [
      "\u001b[0;31m---------------------------------------------------------------------------\u001b[0m",
      "\u001b[0;31mFileNotFoundError\u001b[0m                         Traceback (most recent call last)",
      "Cell \u001b[0;32mIn[58], line 20\u001b[0m\n\u001b[1;32m     18\u001b[0m             sfn \u001b[38;5;241m=\u001b[39m \u001b[38;5;28mstr\u001b[39m(fn)\n\u001b[1;32m     19\u001b[0m             dest \u001b[38;5;241m=\u001b[39m \u001b[38;5;124mf\u001b[39m\u001b[38;5;124m\"\u001b[39m\u001b[38;5;124m./data/\u001b[39m\u001b[38;5;132;01m{\u001b[39;00ms\u001b[38;5;132;01m}\u001b[39;00m\u001b[38;5;124m\"\u001b[39m \u001b[38;5;241m+\u001b[39m sfn[\u001b[38;5;28mlen\u001b[39m(\u001b[38;5;28mstr\u001b[39m(data_path)):]\n\u001b[0;32m---> 20\u001b[0m             img\u001b[38;5;241m.\u001b[39msave(dest)\n\u001b[1;32m     21\u001b[0m             num \u001b[38;5;241m+\u001b[39m\u001b[38;5;241m=\u001b[39m \u001b[38;5;241m1\u001b[39m\n\u001b[1;32m     22\u001b[0m \u001b[38;5;28mprint\u001b[39m(num)\n",
      "File \u001b[0;32m~/anaconda3/lib/python3.11/site-packages/PIL/Image.py:2436\u001b[0m, in \u001b[0;36mImage.save\u001b[0;34m(self, fp, format, **params)\u001b[0m\n\u001b[1;32m   2434\u001b[0m         fp \u001b[38;5;241m=\u001b[39m builtins\u001b[38;5;241m.\u001b[39mopen(filename, \u001b[38;5;124m\"\u001b[39m\u001b[38;5;124mr+b\u001b[39m\u001b[38;5;124m\"\u001b[39m)\n\u001b[1;32m   2435\u001b[0m     \u001b[38;5;28;01melse\u001b[39;00m:\n\u001b[0;32m-> 2436\u001b[0m         fp \u001b[38;5;241m=\u001b[39m builtins\u001b[38;5;241m.\u001b[39mopen(filename, \u001b[38;5;124m\"\u001b[39m\u001b[38;5;124mw+b\u001b[39m\u001b[38;5;124m\"\u001b[39m)\n\u001b[1;32m   2438\u001b[0m \u001b[38;5;28;01mtry\u001b[39;00m:\n\u001b[1;32m   2439\u001b[0m     save_handler(\u001b[38;5;28mself\u001b[39m, fp, filename)\n",
      "\u001b[0;31mFileNotFoundError\u001b[0m: [Errno 2] No such file or directory: './data/train/R/R1170.jpg'"
     ]
    }
   ],
   "source": [
    "data_dir = \"./data/ASL_Dataset/Train\"\n",
    "data_path = Path(data_dir)\n",
    "\n",
    "num = 0\n",
    "for sub_path in tqdm(list(data_path.glob('**/'))):\n",
    "    if str(sub_path).count('/') != 3:\n",
    "        continue\n",
    "\n",
    "    file_names = list(sub_path.glob('**/*'))\n",
    "    train, rest, _, _ = train_test_split(file_names, [False] * len(file_names), test_size=0.05, random_state=5)\n",
    "    \n",
    "    for s, data in [('train', train), ('val', val), ('test', test)]:\n",
    "        for fn in data:\n",
    "            if os.path.isdir(fn):\n",
    "                continue\n",
    "            img = Image.open(fn)\n",
    "            img = img.resize((200, 200), Image.Resampling.LANCZOS)\n",
    "            sfn = str(fn)\n",
    "            dest = f\"./data/{s}\" + sfn[len(str(data_path)):]\n",
    "            img.save(dest)\n",
    "            num += 1\n",
    "print(num)"
   ]
  },
  {
   "cell_type": "code",
   "execution_count": 21,
   "id": "2f3ef394",
   "metadata": {},
   "outputs": [
    {
     "name": "stderr",
     "output_type": "stream",
     "text": [
      "1491it [00:06, 231.22it/s]\n",
      "75it [00:00, 196.04it/s]\n",
      "145it [00:00, 211.50it/s]\n"
     ]
    }
   ],
   "source": [
    "data_dir = \"./data/American Sign Language Letters Less/\"\n",
    "num = 0\n",
    "for split in ['train', 'test', 'val']:\n",
    "    os.makedirs(os.path.abspath(f\"./data/{split}\"))\n",
    "    for letter in set(\"ABCDEFGHIJKLMNOPQRSTUVWXYZ\"):\n",
    "        os.makedirs(os.path.abspath(f\"./data/{split}/{letter}\"))\n",
    "    new_dir = data_dir + split\n",
    "    data_path = Path(new_dir)\n",
    "    for sub_path in tqdm(data_path.glob('**/*')):\n",
    "        if str(sub_path).count('/') != 3 or not str(sub_path).endswith(\".jpg\"):\n",
    "            continue\n",
    "        letter = str(sub_path).split('/')[-1][0]\n",
    "        sfn = str(sub_path)\n",
    "        if not sfn.endswith(\".jpg\"):\n",
    "            continue\n",
    "        img = Image.open(sfn)\n",
    "        img = img.resize((299, 299), Image.Resampling.LANCZOS)\n",
    "        dest = f\"./data/{split}/{letter}/{letter}{num}.jpg\" \n",
    "        img.save(dest)\n",
    "        num += 1"
   ]
  },
  {
   "cell_type": "code",
   "execution_count": 22,
   "id": "501bcd43",
   "metadata": {},
   "outputs": [
    {
     "name": "stderr",
     "output_type": "stream",
     "text": [
      "131it [00:01, 85.32it/s]\n",
      "27it [00:00, 219.36it/s]\n"
     ]
    }
   ],
   "source": [
    "data_dir = \"./data/custom_dataset_we_made/\"\n",
    "for split in ['train', 'val']:\n",
    "    new_dir = data_dir + split\n",
    "    data_path = Path(new_dir)\n",
    "    for sub_path in tqdm(data_path.glob('**/*')):\n",
    "        if str(sub_path).count('/') != 3 or not str(sub_path).endswith(\".jpg\"):\n",
    "            continue\n",
    "        letter = str(sub_path).split('/')[-1][0]\n",
    "        sfn = str(sub_path)\n",
    "        if not sfn.endswith(\".jpg\"):\n",
    "            continue\n",
    "        img = Image.open(sfn)\n",
    "        img = img.resize((299, 299), Image.Resampling.LANCZOS)\n",
    "        dest = f\"./data/{split}/{letter}/{letter}{num}.jpg\" \n",
    "        img.save(dest)\n",
    "        num += 1"
   ]
  },
  {
   "cell_type": "code",
   "execution_count": null,
   "id": "1ddf868b",
   "metadata": {},
   "outputs": [],
   "source": []
  }
 ],
 "metadata": {
  "kernelspec": {
   "display_name": "Python [conda env:new-acv] *",
   "language": "python",
   "name": "conda-env-new-acv-py"
  },
  "language_info": {
   "codemirror_mode": {
    "name": "ipython",
    "version": 3
   },
   "file_extension": ".py",
   "mimetype": "text/x-python",
   "name": "python",
   "nbconvert_exporter": "python",
   "pygments_lexer": "ipython3",
   "version": "3.9.19"
  }
 },
 "nbformat": 4,
 "nbformat_minor": 5
}
