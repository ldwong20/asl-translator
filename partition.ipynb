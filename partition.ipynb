{
 "cells": [
  {
   "cell_type": "code",
   "execution_count": 29,
   "id": "759f78e0",
   "metadata": {},
   "outputs": [],
   "source": [
    "import os\n",
    "from pathlib import Path\n",
    "from sklearn.model_selection import train_test_split\n",
    "import shutil"
   ]
  },
  {
   "cell_type": "code",
   "execution_count": 31,
   "id": "a1b80974",
   "metadata": {},
   "outputs": [
    {
     "name": "stdout",
     "output_type": "stream",
     "text": [
      "2250 250 500\n",
      "data/train_original/R/R1514.jpg ./data/train/R1514.jpg\n"
     ]
    },
    {
     "ename": "FileNotFoundError",
     "evalue": "[Errno 2] No such file or directory: './data/train/R1514.jpg'",
     "output_type": "error",
     "traceback": [
      "\u001b[0;31m---------------------------------------------------------------------------\u001b[0m",
      "\u001b[0;31mFileNotFoundError\u001b[0m                         Traceback (most recent call last)",
      "Cell \u001b[0;32mIn[31], line 15\u001b[0m\n\u001b[1;32m     13\u001b[0m     sfn \u001b[38;5;241m=\u001b[39m \u001b[38;5;28mstr\u001b[39m(fn)\n\u001b[1;32m     14\u001b[0m     dest \u001b[38;5;241m=\u001b[39m \u001b[38;5;124m\"\u001b[39m\u001b[38;5;124m./data/train\u001b[39m\u001b[38;5;124m\"\u001b[39m \u001b[38;5;241m+\u001b[39m sfn[\u001b[38;5;28mlen\u001b[39m(data_dir):]\n\u001b[0;32m---> 15\u001b[0m     shutil\u001b[38;5;241m.\u001b[39mcopyfile(fn, dest)\n\u001b[1;32m     16\u001b[0m \u001b[38;5;28;01mfor\u001b[39;00m fn \u001b[38;5;129;01min\u001b[39;00m test:\n\u001b[1;32m     17\u001b[0m     sfn \u001b[38;5;241m=\u001b[39m \u001b[38;5;28mstr\u001b[39m(fn)\n",
      "File \u001b[0;32m~/anaconda3/lib/python3.11/shutil.py:258\u001b[0m, in \u001b[0;36mcopyfile\u001b[0;34m(src, dst, follow_symlinks)\u001b[0m\n\u001b[1;32m    256\u001b[0m \u001b[38;5;28;01mwith\u001b[39;00m \u001b[38;5;28mopen\u001b[39m(src, \u001b[38;5;124m'\u001b[39m\u001b[38;5;124mrb\u001b[39m\u001b[38;5;124m'\u001b[39m) \u001b[38;5;28;01mas\u001b[39;00m fsrc:\n\u001b[1;32m    257\u001b[0m     \u001b[38;5;28;01mtry\u001b[39;00m:\n\u001b[0;32m--> 258\u001b[0m         \u001b[38;5;28;01mwith\u001b[39;00m \u001b[38;5;28mopen\u001b[39m(dst, \u001b[38;5;124m'\u001b[39m\u001b[38;5;124mwb\u001b[39m\u001b[38;5;124m'\u001b[39m) \u001b[38;5;28;01mas\u001b[39;00m fdst:\n\u001b[1;32m    259\u001b[0m             \u001b[38;5;66;03m# macOS\u001b[39;00m\n\u001b[1;32m    260\u001b[0m             \u001b[38;5;28;01mif\u001b[39;00m _HAS_FCOPYFILE:\n\u001b[1;32m    261\u001b[0m                 \u001b[38;5;28;01mtry\u001b[39;00m:\n",
      "\u001b[0;31mFileNotFoundError\u001b[0m: [Errno 2] No such file or directory: './data/train/R1514.jpg'"
     ]
    }
   ],
   "source": [
    "data_dir = \"./data/train_original\"\n",
    "data_path = Path(data_dir)\n",
    "\n",
    "for sub_path in data_path.glob('**/'):\n",
    "    if str(sub_path).count('/') != 2:\n",
    "        continue\n",
    "    file_names = list(sub_path.glob('**/*'))\n",
    "    train, rest, _, _ = train_test_split(file_names, [False] * len(file_names), test_size=0.25, random_state=5)\n",
    "    val, test, _, _ = train_test_split(rest, [False] * len(rest), test_size=2/3, random_state=5)\n",
    "    print(len(list(train)), len(list(val)), len(list(test)))\n",
    "    for fn in train:\n",
    "        print(sfn, dest)\n",
    "        sfn = str(fn)\n",
    "        dest = \"./data/train\" + sfn[len(data_dir):]\n",
    "        shutil.copyfile(fn, dest)\n",
    "    for fn in test:\n",
    "        sfn = str(fn)\n",
    "        dest = \"./data/test\" + sfn[len(data_dir):]\n",
    "        shutil.copyfile(fn, dest)\n",
    "    for fn in val:\n",
    "        sfn = str(fn)\n",
    "        dest = \"./data/val\" + sfn[len(data_dir):]\n",
    "        shutil.copyfile(fn, dest)"
   ]
  },
  {
   "cell_type": "code",
   "execution_count": null,
   "id": "17512809",
   "metadata": {},
   "outputs": [],
   "source": []
  }
 ],
 "metadata": {
  "kernelspec": {
   "display_name": "Python 3 (ipykernel)",
   "language": "python",
   "name": "python3"
  },
  "language_info": {
   "codemirror_mode": {
    "name": "ipython",
    "version": 3
   },
   "file_extension": ".py",
   "mimetype": "text/x-python",
   "name": "python",
   "nbconvert_exporter": "python",
   "pygments_lexer": "ipython3",
   "version": "3.11.5"
  }
 },
 "nbformat": 4,
 "nbformat_minor": 5
}
