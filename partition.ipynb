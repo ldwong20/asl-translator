{
 "cells": [
  {
   "cell_type": "code",
   "execution_count": 7,
   "id": "f87f9eb0",
   "metadata": {},
   "outputs": [],
   "source": [
    "import os\n",
    "from pathlib import Path\n",
    "from sklearn.model_selection import train_test_split\n",
    "import shutil\n",
    "from tqdm import tqdm"
   ]
  },
  {
   "cell_type": "code",
   "execution_count": 9,
   "id": "532b875d",
   "metadata": {},
   "outputs": [
    {
     "name": "stderr",
     "output_type": "stream",
     "text": [
      "30it [00:23,  1.26it/s]\n"
     ]
    }
   ],
   "source": [
    "data_dir = \"./data/train_original\"\n",
    "data_path = Path(data_dir)\n",
    "\n",
    "for sub_path in tqdm(data_path.glob('**/')):\n",
    "    if str(sub_path).count('/') != 2:\n",
    "        continue\n",
    "\n",
    "    file_names = list(sub_path.glob('**/*'))\n",
    "    train, rest, _, _ = train_test_split(file_names, [False] * len(file_names), test_size=0.25, random_state=5)\n",
    "    val, test, _, _ = train_test_split(rest, [False] * len(rest), test_size=2/3, random_state=5)\n",
    "    \n",
    "    for s, data in [('train', train), ('val', val), ('test', test)]:\n",
    "        os.makedirs(os.path.abspath(f\"./data/{s}\" + str(sub_path)[len(str(data_path)):]+'/'))\n",
    "        for fn in data:\n",
    "            sfn = str(fn)\n",
    "            dest = f\"./data/{s}\" + sfn[len(str(data_path)):]\n",
    "            shutil.copyfile(fn, dest)"
   ]
  },
  {
   "cell_type": "code",
   "execution_count": null,
   "id": "9a510cd6",
   "metadata": {},
   "outputs": [],
   "source": []
  }
 ],
 "metadata": {
  "kernelspec": {
   "display_name": "Python 3 (ipykernel)",
   "language": "python",
   "name": "python3"
  },
  "language_info": {
   "codemirror_mode": {
    "name": "ipython",
    "version": 3
   },
   "file_extension": ".py",
   "mimetype": "text/x-python",
   "name": "python",
   "nbconvert_exporter": "python",
   "pygments_lexer": "ipython3",
   "version": "3.11.5"
  }
 },
 "nbformat": 4,
 "nbformat_minor": 5
}
