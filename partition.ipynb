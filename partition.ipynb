{
 "cells": [
  {
   "cell_type": "code",
   "execution_count": 29,
   "id": "7a92d72f",
   "metadata": {},
   "outputs": [],
   "source": [
    "import os\n",
    "from pathlib import Path\n",
    "from sklearn.model_selection import train_test_split\n",
    "import shutil"
   ]
  },
  {
   "cell_type": "code",
   "execution_count": 43,
   "id": "ce41301e",
   "metadata": {},
   "outputs": [
    {
     "name": "stdout",
     "output_type": "stream",
     "text": [
      "data/train_original/R\n",
      "2250 250 500\n"
     ]
    },
    {
     "ename": "FileNotFoundError",
     "evalue": "[Errno 2] No such file or directory: './data/train/R/'",
     "output_type": "error",
     "traceback": [
      "\u001b[0;31m---------------------------------------------------------------------------\u001b[0m",
      "\u001b[0;31mFileNotFoundError\u001b[0m                         Traceback (most recent call last)",
      "Cell \u001b[0;32mIn[43], line 12\u001b[0m\n\u001b[1;32m     10\u001b[0m val, test, _, _ \u001b[38;5;241m=\u001b[39m train_test_split(rest, [\u001b[38;5;28;01mFalse\u001b[39;00m] \u001b[38;5;241m*\u001b[39m \u001b[38;5;28mlen\u001b[39m(rest), test_size\u001b[38;5;241m=\u001b[39m\u001b[38;5;241m2\u001b[39m\u001b[38;5;241m/\u001b[39m\u001b[38;5;241m3\u001b[39m, random_state\u001b[38;5;241m=\u001b[39m\u001b[38;5;241m5\u001b[39m)\n\u001b[1;32m     11\u001b[0m \u001b[38;5;28mprint\u001b[39m(\u001b[38;5;28mlen\u001b[39m(\u001b[38;5;28mlist\u001b[39m(train)), \u001b[38;5;28mlen\u001b[39m(\u001b[38;5;28mlist\u001b[39m(val)), \u001b[38;5;28mlen\u001b[39m(\u001b[38;5;28mlist\u001b[39m(test)))\n\u001b[0;32m---> 12\u001b[0m os\u001b[38;5;241m.\u001b[39mmkdir(\u001b[38;5;124m\"\u001b[39m\u001b[38;5;124m./data/train\u001b[39m\u001b[38;5;124m\"\u001b[39m \u001b[38;5;241m+\u001b[39m \u001b[38;5;28mstr\u001b[39m(sub_path)[\u001b[38;5;28mlen\u001b[39m(\u001b[38;5;28mstr\u001b[39m(data_path)):]\u001b[38;5;241m+\u001b[39m\u001b[38;5;124m'\u001b[39m\u001b[38;5;124m/\u001b[39m\u001b[38;5;124m'\u001b[39m)\n\u001b[1;32m     13\u001b[0m os\u001b[38;5;241m.\u001b[39mmkdir(\u001b[38;5;124m\"\u001b[39m\u001b[38;5;124m./data/val\u001b[39m\u001b[38;5;124m\"\u001b[39m \u001b[38;5;241m+\u001b[39m \u001b[38;5;28mstr\u001b[39m(sub_path)[\u001b[38;5;28mlen\u001b[39m(\u001b[38;5;28mstr\u001b[39m(data_path)):]\u001b[38;5;241m+\u001b[39m\u001b[38;5;124m'\u001b[39m\u001b[38;5;124m/\u001b[39m\u001b[38;5;124m'\u001b[39m)\n\u001b[1;32m     14\u001b[0m os\u001b[38;5;241m.\u001b[39mmkdir(\u001b[38;5;124m\"\u001b[39m\u001b[38;5;124m./data/test\u001b[39m\u001b[38;5;124m\"\u001b[39m \u001b[38;5;241m+\u001b[39m \u001b[38;5;28mstr\u001b[39m(sub_path)[\u001b[38;5;28mlen\u001b[39m(\u001b[38;5;28mstr\u001b[39m(data_path)):]\u001b[38;5;241m+\u001b[39m\u001b[38;5;124m'\u001b[39m\u001b[38;5;124m/\u001b[39m\u001b[38;5;124m'\u001b[39m)\n",
      "\u001b[0;31mFileNotFoundError\u001b[0m: [Errno 2] No such file or directory: './data/train/R/'"
     ]
    }
   ],
   "source": [
    "data_dir = \"./data/train_original\"\n",
    "data_path = Path(data_dir)\n",
    "\n",
    "for sub_path in data_path.glob('**/'):\n",
    "    if str(sub_path).count('/') != 2:\n",
    "        continue\n",
    "    print(sub_path)\n",
    "    file_names = list(sub_path.glob('**/*'))\n",
    "    train, rest, _, _ = train_test_split(file_names, [False] * len(file_names), test_size=0.25, random_state=5)\n",
    "    val, test, _, _ = train_test_split(rest, [False] * len(rest), test_size=2/3, random_state=5)\n",
    "    print(len(list(train)), len(list(val)), len(list(test)))\n",
    "    os.mkdir(os.path.abspath(\"./data/train\" + str(sub_path)[len(str(data_path)):]+'/'))\n",
    "    os.mkdir(\"./data/val\" + str(sub_path)[len(str(data_path)):]+'/'))\n",
    "    os.mkdir(\"./data/test\" + str(sub_path)[len(str(data_path)):]+'/')\n",
    "    \n",
    "    for fn in train:\n",
    "        sfn = str(fn)\n",
    "        dest = \"./data/train\" + sfn[len(str(data_path)):]\n",
    "        print(sfn, dest)\n",
    "        shutil.copyfile(fn, dest)\n",
    "    for fn in test:\n",
    "        sfn = str(fn)\n",
    "        dest = \"./data/test\" + sfn[len(data_path):]\n",
    "        shutil.copyfile(fn, dest)\n",
    "    for fn in val:\n",
    "        sfn = str(fn)\n",
    "        dest = \"./data/val\" + sfn[len(data_path):]\n",
    "        shutil.copyfile(fn, dest)"
   ]
  },
  {
   "cell_type": "code",
   "execution_count": null,
   "id": "8c868eff",
   "metadata": {},
   "outputs": [],
   "source": []
  }
 ],
 "metadata": {
  "kernelspec": {
   "display_name": "Python 3 (ipykernel)",
   "language": "python",
   "name": "python3"
  },
  "language_info": {
   "codemirror_mode": {
    "name": "ipython",
    "version": 3
   },
   "file_extension": ".py",
   "mimetype": "text/x-python",
   "name": "python",
   "nbconvert_exporter": "python",
   "pygments_lexer": "ipython3",
   "version": "3.11.5"
  }
 },
 "nbformat": 4,
 "nbformat_minor": 5
}
