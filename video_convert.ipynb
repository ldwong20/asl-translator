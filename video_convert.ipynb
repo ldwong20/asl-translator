{
 "cells": [
  {
   "cell_type": "code",
   "execution_count": null,
   "id": "f131e971",
   "metadata": {},
   "outputs": [],
   "source": [
    "# imports\n",
    "import cv2\n",
    "import os"
   ]
  },
  {
   "cell_type": "code",
   "execution_count": null,
   "id": "0eeb5fc3",
   "metadata": {},
   "outputs": [],
   "source": [
    "# convert a video to individual frames (not actually used for testing)\n",
    "vidcap = cv2.VideoCapture('data/video.mp4')\n",
    "success,image = vidcap.read()\n",
    "count = 0\n",
    "os.makedirs(\"data/frames\")\n",
    "while success:\n",
    "    image = cv2.resize(image, dsize=(200, 200), interpolation=cv2.INTER_CUBIC)\n",
    "    cv2.imwrite(\"data/frames/frame%d.jpg\" % count, image)     # save frame as JPEG file      \n",
    "    success,image = vidcap.read()\n",
    "    print('Read a new frame: ', success)\n",
    "    count += 1"
   ]
  },
  {
   "cell_type": "code",
   "execution_count": null,
   "id": "4fb97269",
   "metadata": {},
   "outputs": [],
   "source": []
  }
 ],
 "metadata": {
  "kernelspec": {
   "display_name": "Python 3 (ipykernel)",
   "language": "python",
   "name": "python3"
  },
  "language_info": {
   "codemirror_mode": {
    "name": "ipython",
    "version": 3
   },
   "file_extension": ".py",
   "mimetype": "text/x-python",
   "name": "python",
   "nbconvert_exporter": "python",
   "pygments_lexer": "ipython3",
   "version": "3.9.19"
  }
 },
 "nbformat": 4,
 "nbformat_minor": 5
}
