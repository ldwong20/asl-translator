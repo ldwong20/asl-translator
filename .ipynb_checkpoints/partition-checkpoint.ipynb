{
 "cells": [
  {
   "cell_type": "code",
   "execution_count": 4,
   "id": "f87f9eb0",
   "metadata": {},
   "outputs": [],
   "source": [
    "# imports\n",
    "import os\n",
    "from pathlib import Path\n",
    "from sklearn.model_selection import train_test_split\n",
    "import shutil\n",
    "from tqdm import tqdm\n",
    "from PIL import Image"
   ]
  },
  {
   "cell_type": "code",
   "execution_count": 25,
   "id": "532b875d",
   "metadata": {},
   "outputs": [
    {
     "name": "stderr",
     "output_type": "stream",
     "text": [
      "30it [00:24,  1.25it/s]\n"
     ]
    }
   ],
   "source": [
    "# create dataset for GAN\n",
    "data_dir = \"./data/asl_alphabet_train\"\n",
    "data_path = Path(data_dir)\n",
    "\n",
    "for sub_path in tqdm(data_path.glob('**/')):\n",
    "    if str(sub_path).count('/') != 2:\n",
    "        continue\n",
    "\n",
    "    # get all file nmaes\n",
    "    file_names = list(sub_path.glob('**/*'))\n",
    "    \n",
    "    # create test/train/val split\n",
    "    train, rest, _, _ = train_test_split(file_names, [False] * len(file_names), test_size=0.25, random_state=5)\n",
    "    val, test, _, _ = train_test_split(rest, [False] * len(rest), test_size=2/3, random_state=5)\n",
    "    \n",
    "    # iterate through all splits and copy the files\n",
    "    for s, data in [('train', train), ('val', val), ('test', test)]:\n",
    "        os.makedirs(os.path.abspath(f\"./data/{s}\" + str(sub_path)[len(str(data_path)):]+'/'))\n",
    "        for fn in data:\n",
    "            sfn = str(fn)\n",
    "            dest = f\"./data/{s}\" + sfn[len(str(data_path)):]\n",
    "            shutil.copyfile(fn, dest)"
   ]
  },
  {
   "cell_type": "code",
   "execution_count": 7,
   "id": "2f3ef394",
   "metadata": {},
   "outputs": [
    {
     "name": "stderr",
     "output_type": "stream",
     "text": [
      "1490it [00:00, 3389.65it/s]\n",
      "75it [00:00, 3947.36it/s]\n",
      "145it [00:00, 3646.52it/s]\n"
     ]
    }
   ],
   "source": [
    "# create dataset for ASL -> English\n",
    "\n",
    "# reference the tailored roboflow dataset\n",
    "data_dir = \"./data/American Sign Language Letters Less/\"\n",
    "\n",
    "num = 0\n",
    "for split in ['train', 'test', 'val']:\n",
    "    # create appropriate directories\n",
    "    os.makedirs(os.path.abspath(f\"./data/{split}\"))\n",
    "    for letter in set(\"ABCDEFGHIJKLMNOPQRSTUVWXYZ\"):\n",
    "        os.makedirs(os.path.abspath(f\"./data/{split}/{letter}\"))\n",
    "    new_dir = data_dir + split\n",
    "    data_path = Path(new_dir)\n",
    "    for sub_path in tqdm(data_path.glob('**/*')):\n",
    "        if str(sub_path).count('/') != 3 or not str(sub_path).endswith(\".jpg\"):\n",
    "            continue\n",
    "            \n",
    "        # find out which letter the image corresponds to\n",
    "        letter = str(sub_path).split('/')[-1][0]\n",
    "        sfn = str(sub_path)\n",
    "        if not sfn.endswith(\".jpg\"):\n",
    "            continue\n",
    "        dest = f\"./data/{split}/{letter}/{letter}{num}.jpg\" \n",
    "        \n",
    "        # copy image\n",
    "        shutil.copyfile(sfn, dest)\n",
    "        num += 1"
   ]
  },
  {
   "cell_type": "code",
   "execution_count": 8,
   "id": "501bcd43",
   "metadata": {},
   "outputs": [
    {
     "name": "stderr",
     "output_type": "stream",
     "text": [
      "130it [00:00, 1602.19it/s]\n",
      "26it [00:00, 3171.50it/s]\n",
      "26it [00:00, 4110.67it/s]\n"
     ]
    }
   ],
   "source": [
    "# add in custom dataset for ASL -> English\n",
    "\n",
    "# reference custom dataset we collected\n",
    "data_dir = \"./data/custom_dataset_we_made/\"\n",
    "for split in ['train', 'test', 'val']:\n",
    "    new_dir = data_dir + split\n",
    "    data_path = Path(new_dir)\n",
    "    for sub_path in tqdm(data_path.glob('**/*')):\n",
    "        if str(sub_path).count('/') != 3 or not str(sub_path).endswith(\".jpg\"):\n",
    "            continue\n",
    "            \n",
    "        # find out which letter the image corresponds to\n",
    "        letter = str(sub_path).split('/')[-1][0]\n",
    "        sfn = str(sub_path)\n",
    "        if not sfn.endswith(\".jpg\"):\n",
    "            continue\n",
    "        dest = f\"./data/{split}/{letter}/{letter}{num}.jpg\" \n",
    "        \n",
    "        # copy image\n",
    "        shutil.copyfile(sfn, dest)\n",
    "        num += 1"
   ]
  },
  {
   "cell_type": "code",
   "execution_count": null,
   "id": "1ddf868b",
   "metadata": {},
   "outputs": [],
   "source": []
  }
 ],
 "metadata": {
  "kernelspec": {
   "display_name": "Python [conda env:new-acv] *",
   "language": "python",
   "name": "conda-env-new-acv-py"
  },
  "language_info": {
   "codemirror_mode": {
    "name": "ipython",
    "version": 3
   },
   "file_extension": ".py",
   "mimetype": "text/x-python",
   "name": "python",
   "nbconvert_exporter": "python",
   "pygments_lexer": "ipython3",
   "version": "3.9.19"
  }
 },
 "nbformat": 4,
 "nbformat_minor": 5
}
