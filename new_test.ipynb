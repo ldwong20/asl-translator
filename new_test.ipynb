{
 "cells": [
  {
   "cell_type": "code",
   "execution_count": null,
   "id": "c748a6ed",
   "metadata": {},
   "outputs": [],
   "source": []
  }
 ],
 "metadata": {
  "kernelspec": {
   "display_name": "Python [conda env:acv-final] *",
   "language": "python",
   "name": "conda-env-acv-final-py"
  }
 },
 "nbformat": 4,
 "nbformat_minor": 5
}
